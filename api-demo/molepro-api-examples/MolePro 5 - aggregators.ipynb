{
 "cells": [
  {
   "cell_type": "code",
   "execution_count": null,
   "metadata": {
    "collapsed": false
   },
   "outputs": [],
   "source": [
    "import requests"
   ]
  },
  {
   "cell_type": "code",
   "execution_count": null,
   "metadata": {
    "collapsed": true
   },
   "outputs": [],
   "source": [
    "base_url = 'https://translator.broadinstitute.org/molecular_data_provider'"
   ]
  },
  {
   "cell_type": "code",
   "execution_count": null,
   "metadata": {
    "collapsed": false,
    "scrolled": true
   },
   "outputs": [],
   "source": [
    "compound_list = requests.get(base_url + '/compound/by_name/aspirin;ibuprofen').json()\n",
    "\n",
    "query = {'name':'DrugBank target transformer','collection_id':compound_list['id'],'controls':[]}\n",
    "target_list = requests.post(base_url+'/transform', json=query).json()\n",
    "target_list\n"
   ]
  },
  {
   "cell_type": "code",
   "execution_count": null,
   "metadata": {
    "collapsed": false,
    "scrolled": true
   },
   "outputs": [],
   "source": [
    "controls = [{'name':'score threshold', 'value':'99'},{'name':'maximum number','value':'0'}]\n",
    "query = {'name':'CMAP compound-to-gene transformer','collection_id':compound_list['id'], 'controls':controls}\n",
    "cmap_list = requests.post(base_url+'/transform', json=query).json()\n",
    "cmap_list\n"
   ]
  },
  {
   "cell_type": "code",
   "execution_count": null,
   "metadata": {
    "collapsed": false,
    "scrolled": true
   },
   "outputs": [],
   "source": [
    "query = {'operation':'intersection', 'collection_ids':[target_list['id'], cmap_list['id']]}\n",
    "\n",
    "response = requests.post(base_url+'/aggregate', json=query).json()\n",
    "response"
   ]
  },
  {
   "cell_type": "code",
   "execution_count": null,
   "metadata": {
    "collapsed": false,
    "scrolled": true
   },
   "outputs": [],
   "source": [
    "intersection = requests.get(response['url']).json()\n",
    "intersection"
   ]
  },
  {
   "cell_type": "code",
   "execution_count": null,
   "metadata": {
    "collapsed": true
   },
   "outputs": [],
   "source": []
  }
 ],
 "metadata": {
  "kernelspec": {
   "display_name": "Python 3",
   "language": "python",
   "name": "python3"
  },
  "language_info": {
   "codemirror_mode": {
    "name": "ipython",
    "version": 3
   },
   "file_extension": ".py",
   "mimetype": "text/x-python",
   "name": "python",
   "nbconvert_exporter": "python",
   "pygments_lexer": "ipython3",
   "version": "3.4.3"
  }
 },
 "nbformat": 4,
 "nbformat_minor": 0
}

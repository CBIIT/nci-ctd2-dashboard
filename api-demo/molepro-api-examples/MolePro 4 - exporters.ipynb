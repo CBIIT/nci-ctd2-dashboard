{
 "cells": [
  {
   "cell_type": "code",
   "execution_count": null,
   "metadata": {
    "collapsed": true
   },
   "outputs": [],
   "source": [
    "import requests"
   ]
  },
  {
   "cell_type": "code",
   "execution_count": null,
   "metadata": {
    "collapsed": true
   },
   "outputs": [],
   "source": [
    "base_url = 'https://translator.broadinstitute.org/molecular_data_provider'"
   ]
  },
  {
   "cell_type": "code",
   "execution_count": null,
   "metadata": {
    "collapsed": false
   },
   "outputs": [],
   "source": [
    "controls = [{'name':'disease', 'value':'acute lymphoid leukemia'}]\n",
    "query = {'name':'DrugCentral indications transformer', 'controls':controls}\n",
    "compound_list = requests.post(base_url+'/transform', json=query).json()\n",
    "compound_list"
   ]
  },
  {
   "cell_type": "code",
   "execution_count": null,
   "metadata": {
    "collapsed": false
   },
   "outputs": [],
   "source": [
    "controls = [{'name':'score threshold', 'value':'99'},{'name':'maximum number','value':'0'}]\n",
    "query = {'name':'CMAP compound-to-gene transformer','collection_id':compound_list['id'], 'controls':controls}\n",
    "response = requests.post(base_url+'/transform', json=query).json()\n",
    "response"
   ]
  },
  {
   "cell_type": "code",
   "execution_count": null,
   "metadata": {
    "collapsed": false
   },
   "outputs": [],
   "source": [
    "controls = [\n",
    "    {'name':'network', 'value':'STRING-human-700'},\n",
    "    {'name':'gene-set collection', 'value':'H - hallmark gene sets'},\n",
    "    {'name':'maximum p-value', 'value':'0.01'}\n",
    "]\n",
    "query = {'name':'Gene-list network enrichment analysis','collection_id':response['id'], 'controls':controls}\n",
    "pathways = requests.post(base_url+'/transform', json=query).json()\n",
    "requests.get(pathways['url']).json()"
   ]
  },
  {
   "cell_type": "code",
   "execution_count": null,
   "metadata": {
    "collapsed": true
   },
   "outputs": [],
   "source": []
  }
 ],
 "metadata": {
  "kernelspec": {
   "display_name": "Python 3",
   "language": "python",
   "name": "python3"
  },
  "language_info": {
   "codemirror_mode": {
    "name": "ipython",
    "version": 3
   },
   "file_extension": ".py",
   "mimetype": "text/x-python",
   "name": "python",
   "nbconvert_exporter": "python",
   "pygments_lexer": "ipython3",
   "version": "3.4.3"
  }
 },
 "nbformat": 4,
 "nbformat_minor": 0
}

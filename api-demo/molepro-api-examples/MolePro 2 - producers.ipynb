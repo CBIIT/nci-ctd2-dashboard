{
 "cells": [
  {
   "cell_type": "code",
   "execution_count": null,
   "metadata": {
    "collapsed": true
   },
   "outputs": [],
   "source": [
    "import requests"
   ]
  },
  {
   "cell_type": "code",
   "execution_count": null,
   "metadata": {
    "collapsed": true
   },
   "outputs": [],
   "source": [
    "base_url = 'https://translator.broadinstitute.org/molecular_data_provider'"
   ]
  },
  {
   "cell_type": "code",
   "execution_count": null,
   "metadata": {
    "collapsed": false
   },
   "outputs": [],
   "source": [
    "url = base_url + '/transformers'\n",
    "\n",
    "transformers = requests.get(url).json()\n",
    "\n",
    "[transformer['function']+'('+transformer['knowledge_map']['input_class']+'->'+transformer['knowledge_map']['output_class']+')' + ': ' + transformer['name'] for transformer in transformers]"
   ]
  },
  {
   "cell_type": "code",
   "execution_count": null,
   "metadata": {
    "collapsed": false,
    "scrolled": false
   },
   "outputs": [],
   "source": [
    "transformers[4]"
   ]
  },
  {
   "cell_type": "code",
   "execution_count": null,
   "metadata": {
    "collapsed": false
   },
   "outputs": [],
   "source": [
    "transformers[12]"
   ]
  },
  {
   "cell_type": "code",
   "execution_count": null,
   "metadata": {
    "collapsed": false
   },
   "outputs": [],
   "source": [
    "controls = [{'name':'gene symbols', 'value':'TP53'}]\n",
    "query = {'name':'HGNC gene-list producer', 'controls':controls}\n",
    "response = requests.post(base_url+'/transform', json=query).json()\n",
    "response"
   ]
  },
  {
   "cell_type": "code",
   "execution_count": null,
   "metadata": {
    "collapsed": false
   },
   "outputs": [],
   "source": [
    "controls = [{'name':'compounds', 'value':'aspirin;ibuprofen'}]\n",
    "query = {'name':'DrugBank compound-list producer', 'controls':controls}\n",
    "response = requests.post(base_url+'/transform', json=query).json()\n",
    "response"
   ]
  },
  {
   "cell_type": "code",
   "execution_count": null,
   "metadata": {
    "collapsed": false,
    "scrolled": true
   },
   "outputs": [],
   "source": [
    "requests.get(response['url']).json()"
   ]
  },
  {
   "cell_type": "code",
   "execution_count": null,
   "metadata": {
    "collapsed": false
   },
   "outputs": [],
   "source": [
    "controls = [{'name':'disease', 'value':'MONDO:0005148'}]\n",
    "query = {'name':'DrugCentral indications transformer', 'controls':controls}\n",
    "response = requests.post(base_url+'/transform', json=query).json()\n",
    "response"
   ]
  },
  {
   "cell_type": "code",
   "execution_count": null,
   "metadata": {
    "collapsed": false,
    "scrolled": true
   },
   "outputs": [],
   "source": [
    "response = requests.get(response['url']).json()\n",
    "[element['names_synonyms'][0]['name'] for element in response['elements']]"
   ]
  },
  {
   "cell_type": "code",
   "execution_count": null,
   "metadata": {
    "collapsed": true
   },
   "outputs": [],
   "source": []
  }
 ],
 "metadata": {
  "kernelspec": {
   "display_name": "Python 3",
   "language": "python",
   "name": "python3"
  },
  "language_info": {
   "codemirror_mode": {
    "name": "ipython",
    "version": 3
   },
   "file_extension": ".py",
   "mimetype": "text/x-python",
   "name": "python",
   "nbconvert_exporter": "python",
   "pygments_lexer": "ipython3",
   "version": "3.4.3"
  }
 },
 "nbformat": 4,
 "nbformat_minor": 0
}

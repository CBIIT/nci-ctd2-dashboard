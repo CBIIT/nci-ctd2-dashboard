{
 "cells": [
  {
   "cell_type": "code",
   "execution_count": null,
   "metadata": {
    "collapsed": true
   },
   "outputs": [],
   "source": [
    "import requests"
   ]
  },
  {
   "cell_type": "code",
   "execution_count": null,
   "metadata": {
    "collapsed": true
   },
   "outputs": [],
   "source": [
    "base_url = 'https://translator.broadinstitute.org/molecular_data_provider'"
   ]
  },
  {
   "cell_type": "code",
   "execution_count": null,
   "metadata": {
    "collapsed": true
   },
   "outputs": [],
   "source": [
    "query_compound = 'bortezomib'\n",
    "query_list = requests.get(base_url + '/compound/by_name/' + query_compound).json()"
   ]
  },
  {
   "cell_type": "code",
   "execution_count": null,
   "metadata": {
    "collapsed": false,
    "scrolled": true
   },
   "outputs": [],
   "source": [
    "query = {'collection_id':query_list['id'], 'controls':[]}"
   ]
  },
  {
   "cell_type": "code",
   "execution_count": null,
   "metadata": {
    "collapsed": false
   },
   "outputs": [],
   "source": [
    "\n",
    "target_transformers = [\n",
    "    'DrugBank target genes transformer',\n",
    "    'DrugBank enzyme genes transformer',\n",
    "    'DrugBank transporter genes transformer',\n",
    "    'DrugBank carrier genes transformer',\n",
    "    'Pharos target genes transformer',\n",
    "    'ChEMBL gene target transformer',\n",
    "    'HMDB target genes transformer',\n",
    "    'Repurposing Hub target transformer',\n",
    "    'DGIdb target transformer',\n",
    "    'GtoPdb target transformer'\n",
    "]\n",
    "disease_transformers = [\n",
    "    \"ChEMBL indication transformer\"\n",
    "]\n",
    "phenotype_disease_transformers = [\n",
    "    \"Repurposing Hub indication transformer\"\n",
    "]\n"
   ]
  },
  {
   "cell_type": "code",
   "execution_count": null,
   "metadata": {
    "collapsed": false
   },
   "outputs": [],
   "source": [
    "gene_list_ids = []\n",
    "for tranformer in target_transformers:\n",
    "    query['name'] = tranformer\n",
    "    response = requests.post(base_url+'/transform', json=query).json()\n",
    "    gene_list_ids.append(response['id'])\n",
    "gene_list_ids"
   ]
  },
  {
   "cell_type": "code",
   "execution_count": null,
   "metadata": {
    "collapsed": false
   },
   "outputs": [],
   "source": [
    "union = {'operation':'union', 'collection_ids':gene_list_ids}\n",
    "gene_list = requests.post(base_url+'/aggregate', json=union).json()\n",
    "genes = requests.get(gene_list['url']).json()['elements']\n",
    "gene_list"
   ]
  },
  {
   "cell_type": "code",
   "execution_count": null,
   "metadata": {
    "collapsed": false,
    "scrolled": true
   },
   "outputs": [],
   "source": [
    "for gene in genes:\n",
    "    gene_id = gene['id']\n",
    "    for connection in gene['connections']:\n",
    "        predicate = connection['biolink_predicate']\n",
    "        source = connection['source']\n",
    "        print(predicate,gene_id,source,sep='\\t')"
   ]
  },
  {
   "cell_type": "code",
   "execution_count": null,
   "metadata": {
    "collapsed": false
   },
   "outputs": [],
   "source": [
    "list_ids = []\n",
    "for tranformer in disease_transformers:\n",
    "    query['name'] = tranformer\n",
    "    response = requests.post(base_url+'/transform', json=query).json()\n",
    "    list_ids.append(response['id'])\n",
    "union = {'operation':'union', 'collection_ids':list_ids}\n",
    "disease_list = requests.post(base_url+'/aggregate', json=union).json()\n",
    "diseases = requests.get(disease_list['url']).json()['elements']\n",
    "disease_list"
   ]
  },
  {
   "cell_type": "code",
   "execution_count": null,
   "metadata": {
    "collapsed": false,
    "scrolled": true
   },
   "outputs": [],
   "source": [
    "for disease in diseases:\n",
    "    disease_id = disease['id']\n",
    "    disease_name = disease['names_synonyms'][0]['name']\n",
    "    for connection in disease['connections']:\n",
    "        predicate = connection['biolink_predicate']\n",
    "        source = connection['source']\n",
    "        print(predicate,disease_id,disease_name,source,sep='\\t')"
   ]
  },
  {
   "cell_type": "code",
   "execution_count": null,
   "metadata": {
    "collapsed": false
   },
   "outputs": [],
   "source": [
    "query_gene_name = 'AURKA'\n",
    "controls = [{'name':'genes', 'value':query_gene_name}]\n",
    "query = {'name':'HGNC gene-list producer', 'controls':controls}\n",
    "query_gene = requests.post(base_url+'/transform', json=query).json()\n",
    "query_gene"
   ]
  },
  {
   "cell_type": "code",
   "execution_count": null,
   "metadata": {
    "collapsed": true
   },
   "outputs": [],
   "source": [
    "compound_transformers = [\n",
    "    'DrugBank inhibitors transformer',\n",
    "    'DrugBank substrates transformer',\n",
    "    'DrugBank transporter substrates transformer',\n",
    "    'DrugBank carrier substrates transformer',\n",
    "    'DGIdb inhibitor transformer',\n",
    "    'GtoPdb inhibitors transformer'\n",
    "]"
   ]
  },
  {
   "cell_type": "code",
   "execution_count": null,
   "metadata": {
    "collapsed": false
   },
   "outputs": [],
   "source": [
    "list_ids = []\n",
    "query = {'collection_id':query_gene['id'], 'controls':[]}\n",
    "for tranformer in compound_transformers:\n",
    "    query['name'] = tranformer\n",
    "    response = requests.post(base_url+'/transform', json=query).json()\n",
    "    list_ids.append(response['id'])\n",
    "union = {'operation':'union', 'collection_ids':list_ids}\n",
    "compound_list = requests.post(base_url+'/aggregate', json=union).json()\n",
    "compounds = requests.get(compound_list['url']).json()['elements']\n",
    "compound_list"
   ]
  },
  {
   "cell_type": "code",
   "execution_count": null,
   "metadata": {
    "collapsed": false
   },
   "outputs": [],
   "source": [
    "for compound in compounds:\n",
    "    compound_id = compound['id']\n",
    "    compound_name = compound['names_synonyms'][0]['name']\n",
    "    for connection in compound['connections']:\n",
    "        predicate = connection['biolink_predicate']\n",
    "        source = connection['source']\n",
    "        print(predicate,compound_id,compound_name,source,sep='\\t')"
   ]
  },
  {
   "cell_type": "code",
   "execution_count": null,
   "metadata": {
    "collapsed": true
   },
   "outputs": [],
   "source": []
  }
 ],
 "metadata": {
  "kernelspec": {
   "display_name": "Python 3",
   "language": "python",
   "name": "python3"
  },
  "language_info": {
   "codemirror_mode": {
    "name": "ipython",
    "version": 3
   },
   "file_extension": ".py",
   "mimetype": "text/x-python",
   "name": "python",
   "nbconvert_exporter": "python",
   "pygments_lexer": "ipython3",
   "version": "3.4.3"
  }
 },
 "nbformat": 4,
 "nbformat_minor": 0
}

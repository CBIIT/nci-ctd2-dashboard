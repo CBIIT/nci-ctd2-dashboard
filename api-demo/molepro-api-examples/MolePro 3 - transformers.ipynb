{
 "cells": [
  {
   "cell_type": "code",
   "execution_count": null,
   "metadata": {
    "collapsed": true
   },
   "outputs": [],
   "source": [
    "import requests"
   ]
  },
  {
   "cell_type": "code",
   "execution_count": null,
   "metadata": {
    "collapsed": true
   },
   "outputs": [],
   "source": [
    "base_url = 'https://translator.broadinstitute.org/molecular_data_provider'"
   ]
  },
  {
   "cell_type": "code",
   "execution_count": null,
   "metadata": {
    "collapsed": false,
    "scrolled": true
   },
   "outputs": [],
   "source": [
    "compound_list = requests.get(base_url + '/compound/by_name/trichostatin').json()"
   ]
  },
  {
   "cell_type": "code",
   "execution_count": null,
   "metadata": {
    "collapsed": false
   },
   "outputs": [],
   "source": [
    "controls = [{'name':'score threshold', 'value':'99'},{'name':'maximum number', 'value':'0'}]\n",
    "query = {'name':'CMAP compound-to-compound expander','collection_id':compound_list['id'], 'controls':controls}\n",
    "cmap_list = requests.post(base_url+'/transform', json=query).json()\n",
    "cmap_list"
   ]
  },
  {
   "cell_type": "code",
   "execution_count": null,
   "metadata": {
    "collapsed": false
   },
   "outputs": [],
   "source": [
    "controls = []\n",
    "query = {'name':'DrugBank target transformer','collection_id':cmap_list['id'], 'controls':controls}\n",
    "target_list = requests.post(base_url+'/transform', json=query).json()\n",
    "target_list"
   ]
  },
  {
   "cell_type": "code",
   "execution_count": null,
   "metadata": {
    "collapsed": false,
    "scrolled": true
   },
   "outputs": [],
   "source": [
    "response = requests.get(base_url + '/collection/'+target_list['id']).json()\n",
    "[element['names_synonyms'][0]['name'] for element in response['elements']]"
   ]
  },
  {
   "cell_type": "code",
   "execution_count": null,
   "metadata": {
    "collapsed": true
   },
   "outputs": [],
   "source": []
  }
 ],
 "metadata": {
  "kernelspec": {
   "display_name": "Python 3",
   "language": "python",
   "name": "python3"
  },
  "language_info": {
   "codemirror_mode": {
    "name": "ipython",
    "version": 3
   },
   "file_extension": ".py",
   "mimetype": "text/x-python",
   "name": "python",
   "nbconvert_exporter": "python",
   "pygments_lexer": "ipython3",
   "version": "3.4.3"
  }
 },
 "nbformat": 4,
 "nbformat_minor": 0
}
